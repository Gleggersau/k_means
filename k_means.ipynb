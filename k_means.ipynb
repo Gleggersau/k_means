{
 "cells": [
  {
   "cell_type": "code",
   "execution_count": 32,
   "id": "given-minneapolis",
   "metadata": {},
   "outputs": [
    {
     "ename": "SyntaxError",
     "evalue": "invalid syntax (<ipython-input-32-f5b7aecf63ef>, line 11)",
     "output_type": "error",
     "traceback": [
      "\u001b[1;36m  File \u001b[1;32m\"<ipython-input-32-f5b7aecf63ef>\"\u001b[1;36m, line \u001b[1;32m11\u001b[0m\n\u001b[1;33m    einteilenBis(self,):\u001b[0m\n\u001b[1;37m                        ^\u001b[0m\n\u001b[1;31mSyntaxError\u001b[0m\u001b[1;31m:\u001b[0m invalid syntax\n"
     ]
    }
   ],
   "source": [
    "import matplotlib.pyplot as plt\n",
    "import numpy as np\n",
    "import random\n",
    "\n",
    "class k_means:\n",
    "    def __init__(self,datei,anz):\n",
    "        self.datei=datei\n",
    "        self.anz=anz\n",
    "\n",
    "    erstelleClusterListe(self,)\n",
    "    einteilenBis(self,):\n",
    "\n",
    "\n",
    "if __name__=\"__main__\":\n",
    "    datei=\"werte.csv\"\n",
    "    km=k_means(datei,3)\n",
    "    km.clustern(20)\n"
   ]
  }
 ],
 "metadata": {
  "kernelspec": {
   "display_name": "Python 3",
   "language": "python",
   "name": "python3"
  },
  "language_info": {
   "codemirror_mode": {
    "name": "ipython",
    "version": 3
   },
   "file_extension": ".py",
   "mimetype": "text/x-python",
   "name": "python",
   "nbconvert_exporter": "python",
   "pygments_lexer": "ipython3",
   "version": "3.9.1"
  }
 },
 "nbformat": 4,
 "nbformat_minor": 5
}
